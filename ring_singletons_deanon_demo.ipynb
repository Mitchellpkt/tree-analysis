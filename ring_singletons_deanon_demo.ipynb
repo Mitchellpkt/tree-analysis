{
 "cells": [
  {
   "cell_type": "markdown",
   "id": "f89359cf",
   "metadata": {},
   "source": [
    "### Pick two transactions to compare"
   ]
  },
  {
   "cell_type": "code",
   "execution_count": 1,
   "id": "adfd1523",
   "metadata": {},
   "outputs": [],
   "source": [
    "tx_hash_left: str = \"48ab24a942778d0c7d79d8bbc7076329ae45b9b7c8cc7c15d105e135b4746587\"\n",
    "tx_hash_right: str = \"71879ba6099ea18d456cd31694b0860f3649ebeb28ce5630ccb1be312c0cc8cb\""
   ]
  },
  {
   "cell_type": "markdown",
   "id": "13b9c061",
   "metadata": {},
   "source": [
    "### Import libraries"
   ]
  },
  {
   "cell_type": "code",
   "execution_count": 2,
   "id": "605c090e",
   "metadata": {},
   "outputs": [],
   "source": [
    "from load_transactions import get_processed_transaction\n",
    "from typing import Dict, List"
   ]
  },
  {
   "cell_type": "markdown",
   "id": "23f92b38",
   "metadata": {},
   "source": [
    "### Analyze ring singletons"
   ]
  },
  {
   "cell_type": "code",
   "execution_count": 3,
   "id": "0e95c498",
   "metadata": {},
   "outputs": [],
   "source": [
    "tx_rings_left: Dict[str, List[str]] = get_processed_transaction(tx_hash_left)\n",
    "tx_rings_right: Dict[str, List[str]] = get_processed_transaction(tx_hash_right)\n",
    "\n",
    "results: List[str] = []\n",
    "for i, (key_image_left, ring_left) in enumerate(tx_rings_left.items()):\n",
    "    for j, (key_image_right, ring_right) in enumerate(tx_rings_right.items()):\n",
    "        if j > i:\n",
    "            if len(set(ring_left) & set(ring_right)) == len(ring_left) - 1:\n",
    "                left_singleton: str = list(set(ring_left) - set(ring_right))[0]\n",
    "                right_singleton: str = list(set(ring_right) - set(ring_left))[0]\n",
    "                results.append(f\"Txn: {tx_hash_left}\\nKey Image: {key_image_left}\\nSpends output: {left_singleton}\")\n",
    "                results.append(f\"Txn: {tx_hash_right}\\nKey Image: {key_image_right}\\nSpends output: {right_singleton}\")"
   ]
  },
  {
   "cell_type": "markdown",
   "id": "56c17ed4",
   "metadata": {},
   "source": [
    "### Print the results"
   ]
  },
  {
   "cell_type": "code",
   "execution_count": 4,
   "id": "d0ad371b",
   "metadata": {
    "scrolled": false
   },
   "outputs": [
    {
     "name": "stdout",
     "output_type": "stream",
     "text": [
      "Identified 26 singletons:\n",
      "\n",
      "----\n",
      "Txn: 48ab24a942778d0c7d79d8bbc7076329ae45b9b7c8cc7c15d105e135b4746587\n",
      "Key Image: f7c4e158caaa3d8b15bbf878ed15392d99debf1eaf78a421637fd13e51dce229\n",
      "Spends output: 9641bf77a6f7031b1f077c183e590b3e0c6cf9acd951aa9436d4b670958aff53\n",
      "\n",
      "----\n",
      "Txn: 71879ba6099ea18d456cd31694b0860f3649ebeb28ce5630ccb1be312c0cc8cb\n",
      "Key Image: 8b4afa486c7a8d40c569a172a5ea2200e36c921ee543c2a6c7e43452c3efc9bd\n",
      "Spends output: c75a7b36d2311ce6b41ad062133a0a4b1f16c21d3251c10719158330d4799f7a\n",
      "\n",
      "----\n",
      "Txn: 48ab24a942778d0c7d79d8bbc7076329ae45b9b7c8cc7c15d105e135b4746587\n",
      "Key Image: f37df1f2d6e28ef4fd2a22fa4172aa5453e5dad54e44503e130ce18ef4a28df9\n",
      "Spends output: c419117a83906e84c76de0604b85c00888097c1993b05784f3efdd84633e6d77\n",
      "\n",
      "----\n",
      "Txn: 71879ba6099ea18d456cd31694b0860f3649ebeb28ce5630ccb1be312c0cc8cb\n",
      "Key Image: 71f9ad1b7735bad5d0f26eb9ea23545af1a39517e0e184c7c74d4ee9203156c1\n",
      "Spends output: 736eb676e8dcf030ab4116afe4c8c14e37adff19de70fd25e092a5da20dac778\n",
      "\n",
      "----\n",
      "Txn: 48ab24a942778d0c7d79d8bbc7076329ae45b9b7c8cc7c15d105e135b4746587\n",
      "Key Image: eca5a707cb281ccd298878e401fafc432e606dd76aa6b241bf7eabf1eb17841b\n",
      "Spends output: 4807e8b5ffa45f064e6e4c7c2f0d0b4c863934941ff85fc9b3ee4e01858cfe69\n",
      "\n",
      "----\n",
      "Txn: 71879ba6099ea18d456cd31694b0860f3649ebeb28ce5630ccb1be312c0cc8cb\n",
      "Key Image: 71026f26371e39fc227f06bf13e949baf8b2502a7d50b690745301219f1fe0b2\n",
      "Spends output: b0cf026505d3415e9e94510a5a2d64d7a9bcbb41760af76caf69f027eb36a132\n",
      "\n",
      "----\n",
      "Txn: 48ab24a942778d0c7d79d8bbc7076329ae45b9b7c8cc7c15d105e135b4746587\n",
      "Key Image: cf3eb4db4af95f9527711025c584c67b473493998cb032d636634b654e1519d7\n",
      "Spends output: 00d7edd28e74259bfa52173463f94cf6584ada09bfdbfcb6c26f605a6d7e10c6\n",
      "\n",
      "----\n",
      "Txn: 71879ba6099ea18d456cd31694b0860f3649ebeb28ce5630ccb1be312c0cc8cb\n",
      "Key Image: 08f6ed81f0836a00dc84a8ae7d6b8a36310957233e9aed35c171b5c874bf84b3\n",
      "Spends output: c143c53bd7ee7cf8221fa7d53c1e3cf3b3ae08e86b7cbf5fcbe3b732c36b0e70\n",
      "\n",
      "----\n",
      "Txn: 48ab24a942778d0c7d79d8bbc7076329ae45b9b7c8cc7c15d105e135b4746587\n",
      "Key Image: ad8c2bb821d428596da8b320d205f76a2fde8da758aed343e3470328ef4f7a0c\n",
      "Spends output: 79fea5fd6b31d5c62490d89c3c46d4f72727c06533bd0d4025504b3c752ed144\n",
      "\n",
      "----\n",
      "Txn: 71879ba6099ea18d456cd31694b0860f3649ebeb28ce5630ccb1be312c0cc8cb\n",
      "Key Image: b32c40281fcfc64003bebeb9a89a39f957fc13b3f782e2d1817687560fe4160e\n",
      "Spends output: 6c0acfb2480d70751d29d81baf5c19da082a5e2cac9619694a4cdf5b85d83b8b\n",
      "\n",
      "----\n",
      "Txn: 48ab24a942778d0c7d79d8bbc7076329ae45b9b7c8cc7c15d105e135b4746587\n",
      "Key Image: a069166ba78465a3e5feaaae3fc2da12d5735c07bf2b309e3286100e85410bb8\n",
      "Spends output: ee6d165b62557b91702f026149ccd034b92deac45261d7448c179a2e1f885bd6\n",
      "\n",
      "----\n",
      "Txn: 71879ba6099ea18d456cd31694b0860f3649ebeb28ce5630ccb1be312c0cc8cb\n",
      "Key Image: 924a70fbd6193482e1747ce71c29faa9f031d88dbe98e6554a65b3942370a5e4\n",
      "Spends output: 87f3ac7fea92f2fc044c8e4de58d91c02c4d2bf03ae7677b3e0daf48d2df9a02\n",
      "\n",
      "----\n",
      "Txn: 48ab24a942778d0c7d79d8bbc7076329ae45b9b7c8cc7c15d105e135b4746587\n",
      "Key Image: 9fefad17c478f86eb0969a09aac836819df706e741f3c2e3bac75f67ffaa9e38\n",
      "Spends output: 64d6a43552e0d3f6bfbfeed09e5d208fcf47883c00ca9d7ccc8225020d21c0b6\n",
      "\n",
      "----\n",
      "Txn: 71879ba6099ea18d456cd31694b0860f3649ebeb28ce5630ccb1be312c0cc8cb\n",
      "Key Image: 4d97d6589420864f323844a3259dacc0e67ed18b277ca739f4d31de8800d9ec8\n",
      "Spends output: 829ebc2f25d798340bd06777cbcd96f4ecc671f55f20e578e74d7a44b86402a1\n",
      "\n",
      "----\n",
      "Txn: 48ab24a942778d0c7d79d8bbc7076329ae45b9b7c8cc7c15d105e135b4746587\n",
      "Key Image: 81112ef86c0936ae3b8ed8c7979948dd338dacb1c55fd3cd1d829d67471f5ccc\n",
      "Spends output: 9d3968a31f3aa98cb0366ba161d95fef17ba7bfa579983744fa80fb5e9bd70ad\n",
      "\n",
      "----\n",
      "Txn: 71879ba6099ea18d456cd31694b0860f3649ebeb28ce5630ccb1be312c0cc8cb\n",
      "Key Image: 917ecea6dbec465159961a7b89156bedb29f9e3c64152b48385b22054088062d\n",
      "Spends output: b6de8ae195737b7806ef5e454079c2f0717cb9c6cb00daaaa4d92fffbdfc7e14\n",
      "\n",
      "----\n",
      "Txn: 48ab24a942778d0c7d79d8bbc7076329ae45b9b7c8cc7c15d105e135b4746587\n",
      "Key Image: 779e51b18818dca78b05353006773a825df2a0e197a1d8b5d7f7c04f98c5f2e0\n",
      "Spends output: 19237b3e9c05860412b7fa093149b581e5aca9ff347bbc285a4082604e8a5703\n",
      "\n",
      "----\n",
      "Txn: 71879ba6099ea18d456cd31694b0860f3649ebeb28ce5630ccb1be312c0cc8cb\n",
      "Key Image: 3036e138fc75e5bfa3505fda40d337df1146df8eb3f1a8b726b5653f0574e904\n",
      "Spends output: 1edef02ab39fa6ad38e1709fdb20613a0496539c3a9c753b31a068ffc6ae20e3\n",
      "\n",
      "----\n",
      "Txn: 48ab24a942778d0c7d79d8bbc7076329ae45b9b7c8cc7c15d105e135b4746587\n",
      "Key Image: 50c2776b8392704ad7eb5c4a22deb25b0014392ad21813a3a20bfdf11246bb3d\n",
      "Spends output: 54cf873a56221fae677b2b64287e7f0c2d6d1d108cb8ac96ef2ab96ece5d612e\n",
      "\n",
      "----\n",
      "Txn: 71879ba6099ea18d456cd31694b0860f3649ebeb28ce5630ccb1be312c0cc8cb\n",
      "Key Image: 120180d326ace909506f6015daeafcf0b3a11ea1e9907e73f0e07063dfccf3f1\n",
      "Spends output: cd01993d187438bec73b6d50e69d4d59f702cb6074eba7834d4a2718ec2c4440\n",
      "\n",
      "----\n",
      "Txn: 48ab24a942778d0c7d79d8bbc7076329ae45b9b7c8cc7c15d105e135b4746587\n",
      "Key Image: 450aa04573e640ee71536524168b44d4e787f7b161c90cfd58ea849ebf5341e8\n",
      "Spends output: 3025b96a206246254575c9842f07f1cde6c09f89cd6551d43a0cd4269ac9f04f\n",
      "\n",
      "----\n",
      "Txn: 71879ba6099ea18d456cd31694b0860f3649ebeb28ce5630ccb1be312c0cc8cb\n",
      "Key Image: 6f8083acf613058348fe6e7647c3b2f96fbf2b31a3ac6cb75cd9dcd2cb75993d\n",
      "Spends output: ea683874c13d67b569ad02b0178444dd1319bf16f595a7cf73b6415e8c50b2f3\n",
      "\n",
      "----\n",
      "Txn: 48ab24a942778d0c7d79d8bbc7076329ae45b9b7c8cc7c15d105e135b4746587\n",
      "Key Image: 3326a8bf7ed0e996be9a7b39e3dd177d9251b5e32e67672a0996dc14a9792645\n",
      "Spends output: 37a09f1af3b8ae871dcd515ea57f6b02cc0fc3d0e6f47c013d5c144312be31b2\n",
      "\n",
      "----\n",
      "Txn: 71879ba6099ea18d456cd31694b0860f3649ebeb28ce5630ccb1be312c0cc8cb\n",
      "Key Image: 4edb89b2c09fa47ea45c368d09c382772d943846b3b62dafc8b8f7c663b1e23a\n",
      "Spends output: c017a2448a5b1f3c3eb22a7cf41aa963cd78fbcc915b803d8f1c36514c649ec5\n",
      "\n",
      "----\n",
      "Txn: 48ab24a942778d0c7d79d8bbc7076329ae45b9b7c8cc7c15d105e135b4746587\n",
      "Key Image: 2e378449fd6dbb141dfa49449a6ebb47943b5e1ad6ae3a238801f3583ad8c80b\n",
      "Spends output: 186b43d6a5400e400a8fa9066057da8858f4a7e8aee2a937d816a79ce815be6b\n",
      "\n",
      "----\n",
      "Txn: 71879ba6099ea18d456cd31694b0860f3649ebeb28ce5630ccb1be312c0cc8cb\n",
      "Key Image: 53e52faccdc48f7401c799f61617fcf816b6489938b8bac22b262c2213defbbb\n",
      "Spends output: da95460731facd986c62523287ab77917ddd4d179f01a2671a7d65a71f706be3\n",
      "\n",
      "\n"
     ]
    }
   ],
   "source": [
    "summary: str = \"\".join([f\"----\\n{result}\\n\\n\" for result in results])\n",
    "print(f\"Identified {len(results)} singletons:\\n\\n{summary}\")"
   ]
  },
  {
   "cell_type": "code",
   "execution_count": null,
   "id": "64f5e84d",
   "metadata": {},
   "outputs": [],
   "source": []
  }
 ],
 "metadata": {
  "kernelspec": {
   "display_name": "Python 3 (ipykernel)",
   "language": "python",
   "name": "python3"
  },
  "language_info": {
   "codemirror_mode": {
    "name": "ipython",
    "version": 3
   },
   "file_extension": ".py",
   "mimetype": "text/x-python",
   "name": "python",
   "nbconvert_exporter": "python",
   "pygments_lexer": "ipython3",
   "version": "3.8.5"
  }
 },
 "nbformat": 4,
 "nbformat_minor": 5
}
